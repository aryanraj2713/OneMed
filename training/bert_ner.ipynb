{
 "cells": [
  {
   "cell_type": "code",
   "execution_count": 2,
   "metadata": {
    "colab": {},
    "colab_type": "code",
    "collapsed": true,
    "id": "b75I9uv4r25s"
   },
   "outputs": [],
   "source": [
    "import torch\n",
    "import numpy as np\n",
    "import pandas as pd"
   ]
  },
  {
   "cell_type": "code",
   "execution_count": 3,
   "metadata": {
    "colab": {
     "base_uri": "https://localhost:8080/",
     "height": 224
    },
    "colab_type": "code",
    "id": "0VXHgXu9sBSw",
    "outputId": "0e9a81e6-0cf1-44f5-ef6b-16bb134cbb34"
   },
   "outputs": [
    {
     "name": "stdout",
     "output_type": "stream",
     "text": [
      "208188\n"
     ]
    },
    {
     "data": {
      "text/html": [
       "<div>\n",
       "<style scoped>\n",
       "    .dataframe tbody tr th:only-of-type {\n",
       "        vertical-align: middle;\n",
       "    }\n",
       "\n",
       "    .dataframe tbody tr th {\n",
       "        vertical-align: top;\n",
       "    }\n",
       "\n",
       "    .dataframe thead th {\n",
       "        text-align: right;\n",
       "    }\n",
       "</style>\n",
       "<table border=\"1\" class=\"dataframe\">\n",
       "  <thead>\n",
       "    <tr style=\"text-align: right;\">\n",
       "      <th></th>\n",
       "      <th>Sentence #</th>\n",
       "      <th>Token</th>\n",
       "      <th>Tag</th>\n",
       "    </tr>\n",
       "  </thead>\n",
       "  <tbody>\n",
       "    <tr>\n",
       "      <th>208183</th>\n",
       "      <td>12554</td>\n",
       "      <td>que</td>\n",
       "      <td>O</td>\n",
       "    </tr>\n",
       "    <tr>\n",
       "      <th>208184</th>\n",
       "      <td>12554</td>\n",
       "      <td>requieren</td>\n",
       "      <td>O</td>\n",
       "    </tr>\n",
       "    <tr>\n",
       "      <th>208185</th>\n",
       "      <td>12554</td>\n",
       "      <td>oxígeno</td>\n",
       "      <td>B-PROC</td>\n",
       "    </tr>\n",
       "    <tr>\n",
       "      <th>208186</th>\n",
       "      <td>12554</td>\n",
       "      <td>domiciliario</td>\n",
       "      <td>I-PROC</td>\n",
       "    </tr>\n",
       "    <tr>\n",
       "      <th>208187</th>\n",
       "      <td>12554</td>\n",
       "      <td>.</td>\n",
       "      <td>O</td>\n",
       "    </tr>\n",
       "  </tbody>\n",
       "</table>\n",
       "</div>"
      ],
      "text/plain": [
       "        Sentence #         Token     Tag\n",
       "208183       12554           que       O\n",
       "208184       12554     requieren       O\n",
       "208185       12554       oxígeno  B-PROC\n",
       "208186       12554  domiciliario  I-PROC\n",
       "208187       12554             .       O"
      ]
     },
     "execution_count": 3,
     "metadata": {},
     "output_type": "execute_result"
    }
   ],
   "source": [
    "# Import data \n",
    "# Use \"quoting=3\" to avoid error when pandas interpretates the quotation character as a quotation passage\n",
    "train = pd.read_csv(\"../data/abstracts-eudract-train.sent\",sep=\"\\t\",engine=\"python\",quoting=3)\n",
    "print(len(train))\n",
    "train.tail()"
   ]
  },
  {
   "cell_type": "code",
   "execution_count": 4,
   "metadata": {
    "colab": {
     "base_uri": "https://localhost:8080/",
     "height": 224
    },
    "colab_type": "code",
    "id": "CkuUBQm4BuPb",
    "outputId": "8ef43b5b-fd1e-478a-881a-412ffa51d2ad"
   },
   "outputs": [
    {
     "name": "stdout",
     "output_type": "stream",
     "text": [
      "69319\n"
     ]
    },
    {
     "data": {
      "text/html": [
       "<div>\n",
       "<style scoped>\n",
       "    .dataframe tbody tr th:only-of-type {\n",
       "        vertical-align: middle;\n",
       "    }\n",
       "\n",
       "    .dataframe tbody tr th {\n",
       "        vertical-align: top;\n",
       "    }\n",
       "\n",
       "    .dataframe thead th {\n",
       "        text-align: right;\n",
       "    }\n",
       "</style>\n",
       "<table border=\"1\" class=\"dataframe\">\n",
       "  <thead>\n",
       "    <tr style=\"text-align: right;\">\n",
       "      <th></th>\n",
       "      <th>Sentence #</th>\n",
       "      <th>Token</th>\n",
       "      <th>Tag</th>\n",
       "    </tr>\n",
       "  </thead>\n",
       "  <tbody>\n",
       "    <tr>\n",
       "      <th>69314</th>\n",
       "      <td>4549</td>\n",
       "      <td>próximas</td>\n",
       "      <td>O</td>\n",
       "    </tr>\n",
       "    <tr>\n",
       "      <th>69315</th>\n",
       "      <td>4549</td>\n",
       "      <td>24</td>\n",
       "      <td>O</td>\n",
       "    </tr>\n",
       "    <tr>\n",
       "      <th>69316</th>\n",
       "      <td>4549</td>\n",
       "      <td>-</td>\n",
       "      <td>O</td>\n",
       "    </tr>\n",
       "    <tr>\n",
       "      <th>69317</th>\n",
       "      <td>4549</td>\n",
       "      <td>48</td>\n",
       "      <td>O</td>\n",
       "    </tr>\n",
       "    <tr>\n",
       "      <th>69318</th>\n",
       "      <td>4549</td>\n",
       "      <td>horas</td>\n",
       "      <td>O</td>\n",
       "    </tr>\n",
       "  </tbody>\n",
       "</table>\n",
       "</div>"
      ],
      "text/plain": [
       "       Sentence #     Token Tag\n",
       "69314        4549  próximas   O\n",
       "69315        4549        24   O\n",
       "69316        4549         -   O\n",
       "69317        4549        48   O\n",
       "69318        4549     horas   O"
      ]
     },
     "execution_count": 4,
     "metadata": {},
     "output_type": "execute_result"
    }
   ],
   "source": [
    "dev = pd.read_csv(\"../data/abstracts-eudract-dev.sent\",sep=\"\\t\",engine=\"python\",quoting=3)\n",
    "print(len(dev))\n",
    "dev.tail()"
   ]
  },
  {
   "cell_type": "code",
   "execution_count": 5,
   "metadata": {
    "colab": {},
    "colab_type": "code",
    "collapsed": true,
    "id": "4SI1YsdIBurY"
   },
   "outputs": [],
   "source": [
    "test = pd.read_csv(\"../data/abstracts-eudract-test.sent\",sep=\"\\t\",engine=\"python\",quoting=3)"
   ]
  },
  {
   "cell_type": "code",
   "execution_count": 6,
   "metadata": {
    "colab": {
     "base_uri": "https://localhost:8080/",
     "height": 224
    },
    "colab_type": "code",
    "id": "dRKHY6WovRcG",
    "outputId": "4702b17a-a844-4b3b-f824-5fecc4ddcf4c"
   },
   "outputs": [
    {
     "name": "stdout",
     "output_type": "stream",
     "text": [
      "68994\n"
     ]
    },
    {
     "data": {
      "text/html": [
       "<div>\n",
       "<style scoped>\n",
       "    .dataframe tbody tr th:only-of-type {\n",
       "        vertical-align: middle;\n",
       "    }\n",
       "\n",
       "    .dataframe tbody tr th {\n",
       "        vertical-align: top;\n",
       "    }\n",
       "\n",
       "    .dataframe thead th {\n",
       "        text-align: right;\n",
       "    }\n",
       "</style>\n",
       "<table border=\"1\" class=\"dataframe\">\n",
       "  <thead>\n",
       "    <tr style=\"text-align: right;\">\n",
       "      <th></th>\n",
       "      <th>Sentence #</th>\n",
       "      <th>Token</th>\n",
       "      <th>Tag</th>\n",
       "    </tr>\n",
       "  </thead>\n",
       "  <tbody>\n",
       "    <tr>\n",
       "      <th>68989</th>\n",
       "      <td>4504</td>\n",
       "      <td>D</td>\n",
       "      <td>I-CHEM</td>\n",
       "    </tr>\n",
       "    <tr>\n",
       "      <th>68990</th>\n",
       "      <td>4504</td>\n",
       "      <td>.</td>\n",
       "      <td>O</td>\n",
       "    </tr>\n",
       "    <tr>\n",
       "      <th>68991</th>\n",
       "      <td>4505</td>\n",
       "      <td>-</td>\n",
       "      <td>O</td>\n",
       "    </tr>\n",
       "    <tr>\n",
       "      <th>68992</th>\n",
       "      <td>4505</td>\n",
       "      <td>Mujeres</td>\n",
       "      <td>O</td>\n",
       "    </tr>\n",
       "    <tr>\n",
       "      <th>68993</th>\n",
       "      <td>4505</td>\n",
       "      <td>embarazadas</td>\n",
       "      <td>O</td>\n",
       "    </tr>\n",
       "  </tbody>\n",
       "</table>\n",
       "</div>"
      ],
      "text/plain": [
       "       Sentence #        Token     Tag\n",
       "68989        4504            D  I-CHEM\n",
       "68990        4504            .       O\n",
       "68991        4505            -       O\n",
       "68992        4505      Mujeres       O\n",
       "68993        4505  embarazadas       O"
      ]
     },
     "execution_count": 6,
     "metadata": {},
     "output_type": "execute_result"
    }
   ],
   "source": [
    "print(len(test))\n",
    "test.tail()"
   ]
  },
  {
   "cell_type": "code",
   "execution_count": 7,
   "metadata": {
    "colab": {},
    "colab_type": "code",
    "collapsed": true,
    "id": "PuLx9Zokyvio"
   },
   "outputs": [],
   "source": [
    "class ProcessSentences(object):\n",
    "\n",
    "    def __init__(self, data):\n",
    "        self.n_sent = 1\n",
    "        self.data = data\n",
    "        self.empty = False\n",
    "        agg_func = lambda s: [(w, t) for w, t in zip(s[\"Token\"].values.tolist(),\n",
    "                                                           s[\"Tag\"].values.tolist())]\n",
    "        self.grouped = self.data.groupby(\"Sentence #\").apply(agg_func)\n",
    "        self.sentences = [s for s in self.grouped]\n",
    "\n",
    "    def get_next(self):\n",
    "        try:\n",
    "            s = self.grouped[\"Sentence: {}\".format(self.n_sent)]\n",
    "            self.n_sent += 1\n",
    "            return s\n",
    "        except:\n",
    "            return None"
   ]
  },
  {
   "cell_type": "code",
   "execution_count": 8,
   "metadata": {
    "colab": {},
    "colab_type": "code",
    "id": "AMc4M9bv0kp4"
   },
   "outputs": [],
   "source": [
    "sentences_data_train = ProcessSentences(train)\n",
    "sentences_data_dev = ProcessSentences(dev)\n",
    "sentences_data_test = ProcessSentences(test)"
   ]
  },
  {
   "cell_type": "code",
   "execution_count": 9,
   "metadata": {
    "colab": {
     "base_uri": "https://localhost:8080/",
     "height": 191
    },
    "colab_type": "code",
    "id": "Sl4uwnOU7W63",
    "outputId": "26da45bb-b125-4c51-f41c-97a00fd0a8b2"
   },
   "outputs": [
    {
     "data": {
      "text/plain": [
       "['Efectos',\n",
       " 'del',\n",
       " 'trandolapril',\n",
       " 'en',\n",
       " 'monoterapia',\n",
       " 'y',\n",
       " 'asociado',\n",
       " 'con',\n",
       " 'verapamil',\n",
       " ',']"
      ]
     },
     "execution_count": 9,
     "metadata": {},
     "output_type": "execute_result"
    }
   ],
   "source": [
    "sentences_train = [[word[0] for word in sentence] for sentence in sentences_data_train.sentences]\n",
    "sentences_dev = [[word[0] for word in sentence] for sentence in sentences_data_dev.sentences]\n",
    "sentences_test = [[word[0] for word in sentence] for sentence in sentences_data_test.sentences]\n",
    "sentences_dev[0][:10] # First 10 elements of sentence 1"
   ]
  },
  {
   "cell_type": "code",
   "execution_count": 10,
   "metadata": {
    "colab": {
     "base_uri": "https://localhost:8080/",
     "height": 34
    },
    "colab_type": "code",
    "id": "sHIadx0G7d_n",
    "outputId": "03e6003d-c633-44d2-90c1-20fa98d39a6d"
   },
   "outputs": [
    {
     "name": "stdout",
     "output_type": "stream",
     "text": [
      "['O', 'O', 'B-CHEM', 'O', 'B-PROC', 'O', 'O', 'O', 'B-CHEM', 'O']\n"
     ]
    }
   ],
   "source": [
    "# Show labels\n",
    "labels_train = [[s[1] for s in sentence] for sentence in sentences_data_train.sentences]\n",
    "labels_dev = [[s[1] for s in sentence] for sentence in sentences_data_dev.sentences]\n",
    "labels_test = [[s[1] for s in sentence] for sentence in sentences_data_test.sentences]\n",
    "print(labels_dev[0][:10]) # First 10 labels of sentence 1\n"
   ]
  },
  {
   "cell_type": "code",
   "execution_count": 11,
   "metadata": {
    "colab": {},
    "colab_type": "code",
    "collapsed": true,
    "id": "xK8yb1Ud9cz0"
   },
   "outputs": [],
   "source": [
    "# Label values\n",
    "tag_values = list(set(train[\"Tag\"].values))\n",
    "tag_values.append(\"PAD\")\n",
    "tag2idx = {t: i for i, t in enumerate(tag_values)}\n"
   ]
  },
  {
   "cell_type": "code",
   "execution_count": 12,
   "metadata": {
    "colab": {
     "base_uri": "https://localhost:8080/",
     "height": 36
    },
    "colab_type": "code",
    "id": "Syx48mz29k6S",
    "outputId": "d75b10bf-ef70-4a17-8f60-65ec507fd2c9"
   },
   "outputs": [
    {
     "data": {
      "text/plain": [
       "'1.3.1'"
      ]
     },
     "execution_count": 12,
     "metadata": {},
     "output_type": "execute_result"
    }
   ],
   "source": [
    "## Prepare data for BERT\n",
    "# Import pytorch and transformers library\n",
    "import torch\n",
    "from torch.utils.data import TensorDataset, DataLoader, RandomSampler, SequentialSampler\n",
    "import transformers\n",
    "from transformers import BertTokenizer, BertConfig\n",
    "\n",
    "from keras.preprocessing.sequence import pad_sequences\n",
    "\n",
    "torch.__version__"
   ]
  },
  {
   "cell_type": "code",
   "execution_count": 13,
   "metadata": {
    "colab": {},
    "colab_type": "code",
    "collapsed": true,
    "id": "CVEBmpAt-2Rj"
   },
   "outputs": [],
   "source": [
    "# Define BERT parameters\n",
    "# Sentence length\n",
    "MAX_LEN = 270\n",
    "# Batch size\n",
    "bs = 8 "
   ]
  },
  {
   "cell_type": "code",
   "execution_count": 14,
   "metadata": {
    "colab": {
     "base_uri": "https://localhost:8080/",
     "height": 364
    },
    "colab_type": "code",
    "id": "E9hc2k3X_AaG",
    "outputId": "6a758e73-46b4-445d-a29e-24b0a2f77253"
   },
   "outputs": [
    {
     "name": "stdout",
     "output_type": "stream",
     "text": [
      "Fri Sep 25 22:27:59 2020       \n",
      "+-----------------------------------------------------------------------------+\n",
      "| NVIDIA-SMI 450.51.06    Driver Version: 450.51.06    CUDA Version: 11.0     |\n",
      "|-------------------------------+----------------------+----------------------+\n",
      "| GPU  Name        Persistence-M| Bus-Id        Disp.A | Volatile Uncorr. ECC |\n",
      "| Fan  Temp  Perf  Pwr:Usage/Cap|         Memory-Usage | GPU-Util  Compute M. |\n",
      "|                               |                      |               MIG M. |\n",
      "|===============================+======================+======================|\n",
      "|   0  GeForce RTX 208...  Off  | 00000000:65:00.0 Off |                  N/A |\n",
      "| 41%   45C    P0    42W / 250W |      3MiB / 11016MiB |      0%      Default |\n",
      "|                               |                      |                  N/A |\n",
      "+-------------------------------+----------------------+----------------------+\n",
      "                                                                               \n",
      "+-----------------------------------------------------------------------------+\n",
      "| Processes:                                                                  |\n",
      "|  GPU   GI   CI        PID   Type   Process name                  GPU Memory |\n",
      "|        ID   ID                                                   Usage      |\n",
      "|=============================================================================|\n",
      "|  No running processes found                                                 |\n",
      "+-----------------------------------------------------------------------------+\n"
     ]
    }
   ],
   "source": [
    "# CUDA device (GPU)\n",
    "device = torch.device(\"cuda\" if torch.cuda.is_available() else \"cpu\")\n",
    "n_gpu = torch.cuda.device_count()\n",
    "torch.cuda.get_device_name(0)\n",
    "# Print state of GPU\n",
    "!nvidia-smi"
   ]
  },
  {
   "cell_type": "code",
   "execution_count": 15,
   "metadata": {
    "colab": {},
    "colab_type": "code",
    "collapsed": true,
    "id": "QNsvCheFqSzV"
   },
   "outputs": [],
   "source": [
    "# Import BERT tokenizer\n",
    "# Use the BETO model (BERT for Spanish), available in the Transformers library  \n",
    "tokenizer = BertTokenizer.from_pretrained('dccuchile/bert-base-spanish-wwm-cased', do_lower_case=False)"
   ]
  },
  {
   "cell_type": "code",
   "execution_count": 16,
   "metadata": {
    "colab": {},
    "colab_type": "code",
    "collapsed": true,
    "id": "1hDxIQ39ri_0"
   },
   "outputs": [],
   "source": [
    "# Function to tokenize and preserve labels\n",
    "def tokenize_and_keep_labels(sentence, text_labels):\n",
    "    tokenized_sentence = []\n",
    "    labels = []\n",
    "\n",
    "    for word, label in zip(sentence, text_labels):\n",
    "\n",
    "        # Tokenize each word and count number of its subwords\n",
    "        # We force conversion to string to avoid errors with float elements\n",
    "        tokenized_word = tokenizer.tokenize(str(word))\n",
    "        n_subwords = len(tokenized_word)\n",
    "\n",
    "        # The tokenized word is added to the resulting tokenized word list\n",
    "        tokenized_sentence.extend(tokenized_word)\n",
    "\n",
    "        # The same label is added to the new list of labels `n_subwords` times\n",
    "        labels.extend([label] * n_subwords)\n",
    "\n",
    "    return tokenized_sentence, labels"
   ]
  },
  {
   "cell_type": "code",
   "execution_count": 17,
   "metadata": {
    "colab": {},
    "colab_type": "code",
    "collapsed": true,
    "id": "GtTteTFSrwsA"
   },
   "outputs": [],
   "source": [
    "tokenized_texts_and_labels_train = [\n",
    "    tokenize_and_keep_labels(sent, labs)\n",
    "    for sent, labs in zip(sentences_train, labels_train)\n",
    "]"
   ]
  },
  {
   "cell_type": "code",
   "execution_count": 18,
   "metadata": {
    "colab": {},
    "colab_type": "code",
    "collapsed": true,
    "id": "1CzlxxvitaJX"
   },
   "outputs": [],
   "source": [
    "tokenized_texts_and_labels_dev = [\n",
    "    tokenize_and_keep_labels(sent, labs)\n",
    "    for sent, labs in zip(sentences_dev, labels_dev)\n",
    "]"
   ]
  },
  {
   "cell_type": "code",
   "execution_count": 19,
   "metadata": {
    "colab": {},
    "colab_type": "code",
    "collapsed": true,
    "id": "nUTfDui4FE60"
   },
   "outputs": [],
   "source": [
    "tokenized_texts_and_labels_test = [\n",
    "    tokenize_and_keep_labels(sent, labs)\n",
    "    for sent, labs in zip(sentences_test, labels_test)\n",
    "]"
   ]
  },
  {
   "cell_type": "code",
   "execution_count": 20,
   "metadata": {
    "colab": {},
    "colab_type": "code",
    "collapsed": true,
    "id": "Qerj1wtEr_RJ"
   },
   "outputs": [],
   "source": [
    "tokenized_texts_train = [token_label_pair[0] for token_label_pair in tokenized_texts_and_labels_train]\n",
    "labels_train = [token_label_pair[1] for token_label_pair in tokenized_texts_and_labels_train]\n",
    "\n",
    "tokenized_texts_dev = [token_label_pair[0] for token_label_pair in tokenized_texts_and_labels_dev]\n",
    "labels_dev = [token_label_pair[1] for token_label_pair in tokenized_texts_and_labels_dev]\n",
    "\n",
    "tokenized_texts_test = [token_label_pair[0] for token_label_pair in tokenized_texts_and_labels_test]\n",
    "labels_test = [token_label_pair[1] for token_label_pair in tokenized_texts_and_labels_test]"
   ]
  },
  {
   "cell_type": "code",
   "execution_count": 21,
   "metadata": {
    "colab": {},
    "colab_type": "code",
    "collapsed": true,
    "id": "1rlSfXzNsD-L"
   },
   "outputs": [],
   "source": [
    "# Padding of sentences according to desired input length\n",
    "input_ids_train = pad_sequences([tokenizer.convert_tokens_to_ids(txt) for txt in tokenized_texts_train],\n",
    "                          maxlen=MAX_LEN, dtype=\"long\", value=0.0,\n",
    "                          truncating=\"post\", padding=\"post\")\n",
    "\n",
    "input_ids_dev = pad_sequences([tokenizer.convert_tokens_to_ids(txt) for txt in tokenized_texts_dev],\n",
    "                          maxlen=MAX_LEN, dtype=\"long\", value=0.0,\n",
    "                          truncating=\"post\", padding=\"post\")\n",
    "\n",
    "input_ids_test = pad_sequences([tokenizer.convert_tokens_to_ids(txt) for txt in tokenized_texts_test],\n",
    "                          maxlen=MAX_LEN, dtype=\"long\", value=0.0,\n",
    "                          truncating=\"post\", padding=\"post\")\n"
   ]
  },
  {
   "cell_type": "code",
   "execution_count": 22,
   "metadata": {
    "colab": {},
    "colab_type": "code",
    "collapsed": true,
    "id": "MY0sKf3ayNPQ"
   },
   "outputs": [],
   "source": [
    "# Paddding of labels with regard to input length\n",
    "tags_train = pad_sequences([[tag2idx.get(l) for l in lab] for lab in labels_train],\n",
    "                     maxlen=MAX_LEN, value=tag2idx[\"PAD\"], padding=\"post\",\n",
    "                     dtype=\"long\", truncating=\"post\")\n",
    "\n",
    "tags_dev = pad_sequences([[tag2idx.get(l) for l in lab] for lab in labels_dev],\n",
    "                     maxlen=MAX_LEN, value=tag2idx[\"PAD\"], padding=\"post\",\n",
    "                     dtype=\"long\", truncating=\"post\")\n",
    "\n",
    "tags_test = pad_sequences([[tag2idx.get(l) for l in lab] for lab in labels_test],\n",
    "                     maxlen=MAX_LEN, value=tag2idx[\"PAD\"], padding=\"post\",\n",
    "                     dtype=\"long\", truncating=\"post\")\n"
   ]
  },
  {
   "cell_type": "code",
   "execution_count": 23,
   "metadata": {
    "colab": {},
    "colab_type": "code",
    "collapsed": true,
    "id": "txgINWIhvzzn"
   },
   "outputs": [],
   "source": [
    "# Create the attention mask to ignore the padded elements in the sequences during training, development and testing\n",
    "attention_masks_train = [[float(i != 0.0) for i in ii] for ii in input_ids_train]\n",
    "attention_masks_dev = [[float(i != 0.0) for i in ii] for ii in input_ids_dev]\n",
    "attention_masks_test = [[float(i != 0.0) for i in ii] for ii in input_ids_test]"
   ]
  },
  {
   "cell_type": "code",
   "execution_count": 24,
   "metadata": {
    "colab": {},
    "colab_type": "code",
    "collapsed": true,
    "id": "eJHKv3o1wIm6"
   },
   "outputs": [],
   "source": [
    "# Convert the dataset to torch tensors\n",
    "train_inputs = torch.tensor(input_ids_train)\n",
    "dev_inputs = torch.tensor(input_ids_dev)\n",
    "test_inputs = torch.tensor(input_ids_test)\n",
    "train_tags = torch.tensor(tags_train)\n",
    "dev_tags = torch.tensor(tags_dev)\n",
    "test_tags = torch.tensor(tags_test)\n",
    "train_masks = torch.tensor(attention_masks_train)\n",
    "dev_masks = torch.tensor(attention_masks_dev)\n",
    "test_masks = torch.tensor(attention_masks_test)"
   ]
  },
  {
   "cell_type": "code",
   "execution_count": 25,
   "metadata": {
    "colab": {},
    "colab_type": "code",
    "collapsed": true,
    "id": "Of9DD01yyqM4"
   },
   "outputs": [],
   "source": [
    "# We define the dataloaders. \n",
    "# Shuffle the data for training using RandomSampler\n",
    "train_data = TensorDataset(train_inputs, train_masks, train_tags)\n",
    "train_sampler = RandomSampler(train_data)\n",
    "train_dataloader = DataLoader(train_data, sampler=train_sampler, batch_size=bs)\n",
    "\n",
    "# Load dev and test data sequentially with SequentialSampler.\n",
    "dev_data = TensorDataset(dev_inputs, dev_masks, dev_tags)\n",
    "dev_sampler = SequentialSampler(dev_data)\n",
    "dev_dataloader = DataLoader(dev_data, sampler=dev_sampler, batch_size=bs)\n",
    "\n",
    "test_data = TensorDataset(test_inputs, test_masks, test_tags)\n",
    "test_sampler = SequentialSampler(test_data)\n",
    "test_dataloader = DataLoader(test_data, sampler=test_sampler, batch_size=bs)"
   ]
  },
  {
   "cell_type": "markdown",
   "metadata": {
    "colab_type": "text",
    "id": "5K2CFCxWzbeq"
   },
   "source": [
    "**Setting up the BERT model for the task**"
   ]
  },
  {
   "cell_type": "code",
   "execution_count": 26,
   "metadata": {
    "colab": {},
    "colab_type": "code",
    "collapsed": true,
    "id": "IAU6M99nzlFV"
   },
   "outputs": [],
   "source": [
    "# The BertForTokenClassification class is used for token-level predictions. \n",
    "# It includes the BERT model and carries out token-level classification in the last layer\n",
    "# We use the Adam optimizer\n",
    "from transformers import BertForTokenClassification, AdamW "
   ]
  },
  {
   "cell_type": "code",
   "execution_count": 27,
   "metadata": {
    "colab": {},
    "colab_type": "code",
    "collapsed": true,
    "id": "r5fdbG201t7m"
   },
   "outputs": [
    {
     "name": "stderr",
     "output_type": "stream",
     "text": [
      "Some weights of the model checkpoint at dccuchile/bert-base-spanish-wwm-cased were not used when initializing BertForTokenClassification: ['cls.predictions.bias', 'cls.predictions.transform.dense.weight', 'cls.predictions.transform.dense.bias', 'cls.predictions.transform.LayerNorm.weight', 'cls.predictions.transform.LayerNorm.bias', 'cls.predictions.decoder.weight']\n",
      "- This IS expected if you are initializing BertForTokenClassification from the checkpoint of a model trained on another task or with another architecture (e.g. initializing a BertForSequenceClassification model from a BertForPretraining model).\n",
      "- This IS NOT expected if you are initializing BertForTokenClassification from the checkpoint of a model that you expect to be exactly identical (initializing a BertForSequenceClassification model from a BertForSequenceClassification model).\n",
      "Some weights of BertForTokenClassification were not initialized from the model checkpoint at dccuchile/bert-base-spanish-wwm-cased and are newly initialized: ['classifier.weight', 'classifier.bias']\n",
      "You should probably TRAIN this model on a down-stream task to be able to use it for predictions and inference.\n"
     ]
    }
   ],
   "source": [
    "# Instantiate the model and use the pretrained BETO model (BERT for Spanish)\n",
    "model = BertForTokenClassification.from_pretrained(\n",
    "    \"dccuchile/bert-base-spanish-wwm-cased\",\n",
    "    num_labels=len(tag2idx),\n",
    "    output_attentions = False,\n",
    "    output_hidden_states = False\n",
    ")\n"
   ]
  },
  {
   "cell_type": "code",
   "execution_count": 28,
   "metadata": {
    "colab": {},
    "colab_type": "code",
    "collapsed": true,
    "id": "_1X5_jrd2P-r"
   },
   "outputs": [],
   "source": [
    "# Load the model to the GPU\n",
    "model.cuda();"
   ]
  },
  {
   "cell_type": "code",
   "execution_count": 29,
   "metadata": {
    "colab": {},
    "colab_type": "code",
    "collapsed": true,
    "id": "SS6qqtgW2TPe"
   },
   "outputs": [],
   "source": [
    "# weight_decay is a regularization procedure with regard to the weight matrices\n",
    "FULL_FINETUNING = True\n",
    "if FULL_FINETUNING:\n",
    "    param_optimizer = list(model.named_parameters())\n",
    "    no_decay = ['bias', 'gamma', 'beta']\n",
    "    optimizer_grouped_parameters = [\n",
    "        {'params': [p for n, p in param_optimizer if not any(nd in n for nd in no_decay)],\n",
    "         'weight_decay_rate': 0.01},\n",
    "        {'params': [p for n, p in param_optimizer if any(nd in n for nd in no_decay)],\n",
    "         'weight_decay_rate': 0.0}\n",
    "    ]\n",
    "else:\n",
    "    param_optimizer = list(model.classifier.named_parameters())\n",
    "    optimizer_grouped_parameters = [{\"params\": [p for n, p in param_optimizer]}]\n",
    "\n",
    "# Adam optimizer\n",
    "optimizer = AdamW(\n",
    "    optimizer_grouped_parameters,\n",
    "    lr=3e-5,\n",
    "    eps=1e-8\n",
    ")\n"
   ]
  },
  {
   "cell_type": "code",
   "execution_count": 30,
   "metadata": {
    "colab": {},
    "colab_type": "code",
    "collapsed": true,
    "id": "qs5w-cUP3nbk"
   },
   "outputs": [],
   "source": [
    "# Import a scheduler to reduce the learning rate \n",
    "from transformers import get_linear_schedule_with_warmup\n",
    "\n",
    "# Number of training epochs; the BERT paper uses 4\n",
    "epochs = 4\n",
    "max_grad_norm = 1.0\n",
    "\n",
    "# Total number of training steps is number of batches * number of epochs.\n",
    "total_steps = len(train_dataloader) * epochs\n",
    "\n",
    "# Create the learning rate scheduler.\n",
    "scheduler = get_linear_schedule_with_warmup(\n",
    "    optimizer,\n",
    "    num_warmup_steps=0,\n",
    "    num_training_steps=total_steps\n",
    ")"
   ]
  },
  {
   "cell_type": "code",
   "execution_count": 31,
   "metadata": {
    "colab": {
     "base_uri": "https://localhost:8080/",
     "height": 159
    },
    "colab_type": "code",
    "id": "iq1U6_tj3zMU",
    "outputId": "f37d5275-d028-4a03-a8be-37203cb27f45"
   },
   "outputs": [],
   "source": [
    "# Import modules to measure the progression of training\n",
    "# Done\n",
    "# !pip install seqeval"
   ]
  },
  {
   "cell_type": "code",
   "execution_count": 32,
   "metadata": {
    "colab": {},
    "colab_type": "code",
    "collapsed": true,
    "id": "dn43SqXk4f8n"
   },
   "outputs": [],
   "source": [
    "import seqeval\n",
    "from seqeval.metrics import f1_score, precision_score, recall_score, accuracy_score, classification_report"
   ]
  },
  {
   "cell_type": "code",
   "execution_count": 33,
   "metadata": {
    "colab": {
     "base_uri": "https://localhost:8080/",
     "height": 1000
    },
    "colab_type": "code",
    "id": "v4qpGT6N4i-f",
    "outputId": "4542341e-4306-416b-d9bc-1a87f4928610"
   },
   "outputs": [
    {
     "name": "stdout",
     "output_type": "stream",
     "text": [
      "Average train loss: 0.3055732678337272\n",
      "Development loss: 0.24890317981733298\n",
      "Development Accuracy: 0.9234967485854235\n",
      "Development classification report:\n",
      "           precision    recall  f1-score   support\n",
      "\n",
      "     CHEM     0.8832    0.9301    0.9060      4909\n",
      "     PROC     0.8128    0.7164    0.7616      7310\n",
      "     DISO     0.8696    0.8474    0.8583      5799\n",
      "     ANAT     0.4146    0.6298    0.5000       389\n",
      "\n",
      "micro avg     0.8380    0.8128    0.8252     18407\n",
      "macro avg     0.8410    0.8128    0.8251     18407\n",
      "\n",
      "\n",
      "Average train loss: 0.12220231590894122\n",
      "Development loss: 0.2247229518354723\n",
      "Development Accuracy: 0.9370302339329448\n",
      "Development classification report:\n",
      "           precision    recall  f1-score   support\n",
      "\n",
      "     CHEM     0.9126    0.9218    0.9172      5118\n",
      "     PROC     0.8186    0.8068    0.8126      6537\n",
      "     ANAT     0.5804    0.5410    0.5600       634\n",
      "     DISO     0.8970    0.8628    0.8796      5875\n",
      "\n",
      "micro avg     0.8627    0.8481    0.8553     18164\n",
      "macro avg     0.8621    0.8481    0.8549     18164\n",
      "\n",
      "\n",
      "Average train loss: 0.05846316737219599\n",
      "Development loss: 0.24274743357646178\n",
      "Development Accuracy: 0.9414323114601807\n",
      "Development classification report:\n",
      "           precision    recall  f1-score   support\n",
      "\n",
      "     CHEM     0.9362    0.9163    0.9261      5282\n",
      "     PROC     0.8387    0.8113    0.8248      6661\n",
      "     ANAT     0.5922    0.6470    0.6184       541\n",
      "     DISO     0.8954    0.8834    0.8894      5728\n",
      "\n",
      "micro avg     0.8767    0.8595    0.8681     18212\n",
      "macro avg     0.8775    0.8595    0.8684     18212\n",
      "\n",
      "\n",
      "Average train loss: 0.027081862240132527\n",
      "Development loss: 0.2736494612090386\n",
      "Development Accuracy: 0.9427835486867663\n",
      "Development classification report:\n",
      "           precision    recall  f1-score   support\n",
      "\n",
      "     CHEM     0.9317    0.9233    0.9275      5217\n",
      "     PROC     0.8471    0.8157    0.8311      6691\n",
      "     ANAT     0.6413    0.5913    0.6153       641\n",
      "     DISO     0.8965    0.8911    0.8938      5685\n",
      "\n",
      "micro avg     0.8804    0.8621    0.8712     18234\n",
      "macro avg     0.8795    0.8621    0.8706     18234\n",
      "\n",
      "\n",
      "CPU times: user 8min 17s, sys: 14min 13s, total: 22min 30s\n",
      "Wall time: 22min 29s\n"
     ]
    }
   ],
   "source": [
    "%%time \n",
    "# To measure execution time of this cell\n",
    "\n",
    "# Train the model for; the BERT paper uses 4\n",
    "## Store the average loss after each epoch; these values are used to plot the loss.\n",
    "loss_values, development_loss_values = [], []\n",
    "\n",
    "for _ in range(epochs):\n",
    "    #\n",
    "    # Training\n",
    "    #\n",
    "    # Set the model into training mode\n",
    "    model.train()\n",
    "    # Reset the total loss for each epoch\n",
    "    total_loss = 0\n",
    "\n",
    "    for step, batch in enumerate(train_dataloader):\n",
    "        # Transfer batch to gpu\n",
    "        batch = tuple(t.to(device) for t in batch)\n",
    "        b_input_ids, b_input_mask, b_labels = batch\n",
    "        # Remove previous gradients before each backward pass\n",
    "        model.zero_grad()\n",
    "        # forward pass\n",
    "        # This returns the loss (not the model output) since we have input the labels.\n",
    "        outputs = model(b_input_ids, token_type_ids=None,\n",
    "                        attention_mask=b_input_mask, labels=b_labels)\n",
    "        # Get the loss\n",
    "        loss = outputs[0]\n",
    "        # Backward pass to compute the gradients\n",
    "        loss.backward()\n",
    "        # Train loss\n",
    "        total_loss += loss.item()\n",
    "        # Clip the norm of the gradient\n",
    "        # This is to help prevent the \"exploding gradients\" problem.\n",
    "        torch.nn.utils.clip_grad_norm_(parameters=model.parameters(), max_norm=max_grad_norm)\n",
    "        # Update parameters\n",
    "        optimizer.step()\n",
    "        # Update the learning rate.\n",
    "        scheduler.step()\n",
    "\n",
    "    # Calculate the average loss over the training data\n",
    "    avg_train_loss = total_loss / len(train_dataloader)\n",
    "    print(\"Average train loss: {}\".format(avg_train_loss))\n",
    "    \n",
    "\n",
    "    # Store each loss value for plotting the learning curve afterwards\n",
    "    loss_values.append(avg_train_loss)\n",
    "\n",
    "    # After each training epoch, measure performance on development set\n",
    "\n",
    "    # Set the model into evaluation mode\n",
    "    model.eval()\n",
    "    # Reset the development loss for this epoch\n",
    "    eval_loss, eval_accuracy = 0, 0\n",
    "    nb_eval_steps, nb_eval_examples = 0, 0\n",
    "    predictions , true_labels = [], []\n",
    "    for batch in dev_dataloader:\n",
    "        batch = tuple(t.to(device) for t in batch)\n",
    "        b_input_ids, b_input_mask, b_labels = batch\n",
    "\n",
    "        # The model must not compute or save gradients, in order to save memory and speed up this step\n",
    "        with torch.no_grad():\n",
    "            # Forward pass, compute predictions\n",
    "            # This will return the logits (logarithm of the odds), not the loss (we do not provide labels)\n",
    "            outputs = model(b_input_ids, token_type_ids=None,\n",
    "                            attention_mask=b_input_mask, labels=b_labels)\n",
    "        # Transfer logits and labels to CPU\n",
    "        logits = outputs[1].detach().cpu().numpy()\n",
    "        label_ids = b_labels.to('cpu').numpy()\n",
    "\n",
    "        # Compute the accuracy for this batch of development sentences\n",
    "        eval_loss += outputs[0].mean().item()\n",
    "        predictions.extend([list(p) for p in np.argmax(logits, axis=2)])\n",
    "        true_labels.extend(label_ids)\n",
    "\n",
    "    eval_loss = eval_loss / len(dev_dataloader)\n",
    "    development_loss_values.append(eval_loss)\n",
    "    print(\"Development loss: {}\".format(eval_loss))\n",
    "    pred_tags = [tag_values[p_i] for p, l in zip(predictions, true_labels)\n",
    "                                 for p_i, l_i in zip(p, l) if tag_values[l_i] != \"PAD\"]\n",
    "    dev_tags = [tag_values[l_i] for l in true_labels\n",
    "                                  for l_i in l if tag_values[l_i] != \"PAD\"]\n",
    "    print(\"Development Accuracy: {}\".format(accuracy_score(pred_tags, dev_tags)))\n",
    "    print(\"Development classification report:\\n{}\".format(classification_report(pred_tags, dev_tags,digits=4)))\n",
    "    print()\n"
   ]
  },
  {
   "cell_type": "code",
   "execution_count": 34,
   "metadata": {
    "colab": {
     "base_uri": "https://localhost:8080/",
     "height": 482
    },
    "colab_type": "code",
    "id": "ym-psABB_RKm",
    "outputId": "150c6b1c-58e3-43d2-da18-8f406296b022"
   },
   "outputs": [
    {
     "data": {
      "image/png": "[encoded data removed]",
      "text/plain": [
       "<Figure size 864x432 with 1 Axes>"
      ]
     },
     "metadata": {},
     "output_type": "display_data"
    }
   ],
   "source": [
    "# Plot the training loss\n",
    "import matplotlib.pyplot as plt\n",
    "%matplotlib inline\n",
    "\n",
    "import seaborn as sns\n",
    "\n",
    "# Use plot styling from seaborn.\n",
    "sns.set(style='darkgrid')\n",
    "\n",
    "# Increase the plot size and font size.\n",
    "sns.set(font_scale=1.5)\n",
    "plt.rcParams[\"figure.figsize\"] = (12,6)\n",
    "\n",
    "# Plot the learning curve.\n",
    "plt.plot(loss_values, 'b-o', label=\"training loss\")\n",
    "plt.plot(development_loss_values, 'r-o', label=\"validation loss\")\n",
    "\n",
    "# Label the plot.\n",
    "plt.title(\"Learning curve\")\n",
    "plt.xlabel(\"Epoch\")\n",
    "plt.ylabel(\"Loss\")\n",
    "plt.legend()\n",
    "\n",
    "plt.show()"
   ]
  },
  {
   "cell_type": "code",
   "execution_count": 35,
   "metadata": {
    "colab": {
     "base_uri": "https://localhost:8080/",
     "height": 225
    },
    "colab_type": "code",
    "id": "lviKgozCBBmU",
    "outputId": "9379d666-ef07-4904-b588-f81e6f409f24"
   },
   "outputs": [
    {
     "name": "stdout",
     "output_type": "stream",
     "text": [
      "Test Accuracy: 0.9442376406591648\n",
      "Test classification report:            precision    recall  f1-score   support\n",
      "\n",
      "     CHEM     0.9078    0.9070    0.9074      4948\n",
      "     PROC     0.8575    0.8074    0.8317      6266\n",
      "     DISO     0.9004    0.8836    0.8919      5687\n",
      "     ANAT     0.6224    0.6344    0.6284       569\n",
      "\n",
      "micro avg     0.8782    0.8548    0.8663     17470\n",
      "macro avg     0.8780    0.8548    0.8661     17470\n",
      "\n",
      "\n"
     ]
    }
   ],
   "source": [
    "# Apply the model to the test set\n",
    "# Set again the model into evaluation mode\n",
    "model.eval()\n",
    "nb_eval_steps, nb_eval_examples = 0, 0\n",
    "predictions , true_labels = [], []\n",
    "\n",
    "input_ids_list = []\n",
    "\n",
    "for batch in test_dataloader:\n",
    "\n",
    "    batch = tuple(t.to(device) for t in batch)\n",
    "    b_input_ids, b_input_mask, b_labels = batch\n",
    "\n",
    "    # The model must not compute or store gradients\n",
    "    with torch.no_grad():\n",
    "        # Forward pass, calculate predictions.\n",
    "        outputs = model(b_input_ids, token_type_ids=None,\n",
    "                            attention_mask=b_input_mask, labels=b_labels)\n",
    "    # Transfer logits and labels to CPU\n",
    "    logits = outputs[1].detach().cpu().numpy()\n",
    "    label_ids = b_labels.to('cpu').numpy()\n",
    "    input_ids_list.extend(b_input_ids)\n",
    "    \n",
    "    # Calculate the accuracy for this batch of test sentences\n",
    "    eval_loss += outputs[0].mean().item()\n",
    "    predictions.extend([list(p) for p in np.argmax(logits, axis=2)])\n",
    "    true_labels.extend(label_ids)\n",
    "\n",
    "pred_tags = [tag_values[p_i] for p, l in zip(predictions, true_labels)\n",
    "                                 for p_i, l_i in zip(p, l) if tag_values[l_i] != \"PAD\"]\n",
    "test_tags = [tag_values[l_i] for l in true_labels\n",
    "                                  for l_i in l if tag_values[l_i] != \"PAD\"]\n",
    "print(\"Test Accuracy: {}\".format(accuracy_score(pred_tags, test_tags),digits=4))\n",
    "print(\"Test classification report: {}\".format(classification_report(pred_tags, test_tags,digits=4)))\n",
    "print()\n"
   ]
  },
  {
   "cell_type": "code",
   "execution_count": null,
   "metadata": {},
   "outputs": [],
   "source": []
  },
  {
   "cell_type": "code",
   "execution_count": null,
   "metadata": {},
   "outputs": [],
   "source": []
  }
 ],
 "metadata": {
  "accelerator": "GPU",
  "colab": {
   "collapsed_sections": [],
   "name": "bert-ner.ipynb",
   "provenance": []
  },
  "kernelspec": {
   "display_name": "Python 3",
   "language": "python",
   "name": "python3"
  },
  "language_info": {
   "codemirror_mode": {
    "name": "ipython",
    "version": 3
   },
   "file_extension": ".py",
   "mimetype": "text/x-python",
   "name": "python",
   "nbconvert_exporter": "python",
   "pygments_lexer": "ipython3",
   "version": "3.7.3"
  }
 },
 "nbformat": 4,
 "nbformat_minor": 2
}
